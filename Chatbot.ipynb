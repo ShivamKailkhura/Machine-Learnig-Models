{
  "nbformat": 4,
  "nbformat_minor": 0,
  "metadata": {
    "colab": {
      "name": "Untitled1.ipynb",
      "provenance": [],
      "collapsed_sections": [],
      "authorship_tag": "ABX9TyNelQOcHnQg4j2ntrYjbI/i",
      "include_colab_link": true
    },
    "kernelspec": {
      "name": "python3",
      "display_name": "Python 3"
    },
    "language_info": {
      "name": "python"
    }
  },
  "cells": [
    {
      "cell_type": "markdown",
      "metadata": {
        "id": "view-in-github",
        "colab_type": "text"
      },
      "source": [
        "<a href=\"https://colab.research.google.com/github/ShivamKailkhura/Machine-Learning-Models/blob/main/Chatbot.ipynb\" target=\"_parent\"><img src=\"https://colab.research.google.com/assets/colab-badge.svg\" alt=\"Open In Colab\"/></a>"
      ]
    },
    {
      "cell_type": "code",
      "execution_count": null,
      "metadata": {
        "id": "7edPWiBZd_63"
      },
      "outputs": [],
      "source": [
        "#This is a chat-bot program"
      ]
    },
    {
      "cell_type": "code",
      "source": [
        "#Installing dependencies\n",
        "#Importing the libraries`\n",
        "from nltk.chat.util import Chat,reflections"
      ],
      "metadata": {
        "id": "sYFAmzE2eff_"
      },
      "execution_count": null,
      "outputs": []
    },
    {
      "cell_type": "code",
      "source": [
        "pairs = [\n",
        "         ['I am Shivam Kailkhura',['Ram Ram ji Shivam Kailkhura']],\n",
        "    ['my name is (.*)', ['hi %1']],\n",
        "    ['(.*) name (.*)',['%1 hi idiot %1']],\n",
        "    ['(hi|hello|hola|holla)',['Hey there','hi there','hayyyy','ram ram ji','Namaste']],\n",
        "    ['(.*) in (.*) is fun',['%1 in %2 is indeed fun']],\n",
        "    ['(.*)(location|city) ?', ['Tokyo','Japan']],\n",
        "    ['(.*)created (you|u)',['cvmkail made me using NLTK']],\n",
        "    ['how is the weather in (.*)',['The weather is always awesome in %1']],\n",
        "    ['(.*) are you',['My name is AryanBot.I am a bot built by a beginner using nltk.chat.util library']]\n",
        "    ]"
      ],
      "metadata": {
        "id": "DQUAWiEIwtAp"
      },
      "execution_count": null,
      "outputs": []
    },
    {
      "cell_type": "code",
      "source": [
        "reflections"
      ],
      "metadata": {
        "id": "SweXaoCH9HHr"
      },
      "execution_count": null,
      "outputs": []
    },
    {
      "cell_type": "code",
      "source": [
        "my_dummy_reflections = {\n",
        "    'go':'gone',\n",
        "    'hello':'hey there'\n",
        "}"
      ],
      "metadata": {
        "id": "U_3hl1L8AQ5M"
      },
      "execution_count": null,
      "outputs": []
    },
    {
      "cell_type": "code",
      "source": [
        "chat=Chat(pairs,reflections)\n",
        "#chat._substitute('go hello')\n",
        "chat.converse()"
      ],
      "metadata": {
        "id": "xDetH0oC0mqZ"
      },
      "execution_count": null,
      "outputs": []
    },
    {
      "cell_type": "code",
      "source": [
        ""
      ],
      "metadata": {
        "id": "WpYtUAYh_nKl"
      },
      "execution_count": null,
      "outputs": []
    }
  ]
}